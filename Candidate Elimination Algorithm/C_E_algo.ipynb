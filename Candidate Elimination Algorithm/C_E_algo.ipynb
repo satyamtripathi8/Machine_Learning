{
 "cells": [
  {
   "cell_type": "code",
   "execution_count": 1,
   "metadata": {},
   "outputs": [
    {
     "name": "stdout",
     "output_type": "stream",
     "text": [
      "     Sky Air Temp. Humidity    Wind Water Forecast Football Match\n",
      "0  Sunny      Warm   Normal  Strong  Warm     Same            Yes\n",
      "1  Sunny      Warm     High  Strong  Warm     Same            Yes\n",
      "2  Rainy      Cold     High  Strong  Warm   Change             No\n",
      "3  Sunny      Warm     High  Strong  Cool   Change            Yes\n"
     ]
    }
   ],
   "source": [
    "import pandas as pd\n",
    "import numpy as np\n",
    "\n",
    "data = pd.read_csv('Trial.csv')\n",
    "print(data)"
   ]
  },
  {
   "cell_type": "code",
   "execution_count": 2,
   "metadata": {},
   "outputs": [
    {
     "name": "stdout",
     "output_type": "stream",
     "text": [
      "Targets: \n",
      " ['Yes' 'Yes' 'No' 'Yes']\n",
      "\n",
      "Length of Targets: \t 4\n",
      "\n",
      "Size of Target:\t 4\n"
     ]
    }
   ],
   "source": [
    "target = np.array(data.iloc[:,-1]) # iloc[:,6]\n",
    "print(\"Targets: \\n\",target)\n",
    "print(\"\\nLength of Targets: \\t\",len(target))\n",
    "print(\"\\nSize of Target:\\t\",target.size)"
   ]
  },
  {
   "cell_type": "code",
   "execution_count": 3,
   "metadata": {},
   "outputs": [
    {
     "name": "stdout",
     "output_type": "stream",
     "text": [
      "Concepts:\n",
      " [['Sunny' 'Warm' 'Normal' 'Strong' 'Warm']\n",
      " ['Sunny' 'Warm' 'High' 'Strong' 'Warm']\n",
      " ['Rainy' 'Cold' 'High' 'Strong' 'Warm']\n",
      " ['Sunny' 'Warm' 'High' 'Strong' 'Cool']]\n",
      "\n",
      "Shape of Concepts:\t (4, 5)\n",
      "\n",
      "Size of concepts:\t 20\n"
     ]
    }
   ],
   "source": [
    "concepts = np.array(data.iloc[:,0:5])\n",
    "print(\"Concepts:\\n\",concepts)\n",
    "print(\"\\nShape of Concepts:\\t\",concepts.shape)\n",
    "print(\"\\nSize of concepts:\\t\",concepts.size)"
   ]
  },
  {
   "cell_type": "code",
   "execution_count": 4,
   "metadata": {},
   "outputs": [
    {
     "name": "stdout",
     "output_type": "stream",
     "text": [
      "\n",
      "Initialization of specific_h and genearal_h\n",
      "\n",
      "Specific Boundary:  ['Sunny' 'Warm' 'Normal' 'Strong' 'Warm']\n",
      "\n",
      "Generic Boundary:  [['?', '?', '?', '?', '?'], ['?', '?', '?', '?', '?'], ['?', '?', '?', '?', '?'], ['?', '?', '?', '?', '?'], ['?', '?', '?', '?', '?']]\n",
      "\n",
      "Instance 1 is  ['Sunny' 'Warm' 'Normal' 'Strong' 'Warm']\n",
      "Instance is *Positive*\n",
      "************************\n",
      "positive h(x) Sunny\n",
      "specific_h(x) Sunny\n",
      "************************\n",
      "************************\n",
      "positive h(x) Warm\n",
      "specific_h(x) Warm\n",
      "************************\n",
      "************************\n",
      "positive h(x) Normal\n",
      "specific_h(x) Normal\n",
      "************************\n",
      "************************\n",
      "positive h(x) Strong\n",
      "specific_h(x) Strong\n",
      "************************\n",
      "************************\n",
      "positive h(x) Warm\n",
      "specific_h(x) Warm\n",
      "************************\n",
      "Specific Bundary after  1 Instance is  ['Sunny' 'Warm' 'Normal' 'Strong' 'Warm']\n",
      "Generic Boundary after  1 Instance is  [['?', '?', '?', '?', '?'], ['?', '?', '?', '?', '?'], ['?', '?', '?', '?', '?'], ['?', '?', '?', '?', '?'], ['?', '?', '?', '?', '?']]\n",
      "\n",
      "\n",
      "\n",
      "Instance 2 is  ['Sunny' 'Warm' 'High' 'Strong' 'Warm']\n",
      "Instance is *Positive*\n",
      "************************\n",
      "positive h(x) Sunny\n",
      "specific_h(x) Sunny\n",
      "************************\n",
      "************************\n",
      "positive h(x) Warm\n",
      "specific_h(x) Warm\n",
      "************************\n",
      "************************\n",
      "positive h(x) High\n",
      "specific_h(x) Normal\n",
      "************************\n",
      "************************\n",
      "positive h(x) Strong\n",
      "specific_h(x) Strong\n",
      "************************\n",
      "************************\n",
      "positive h(x) Warm\n",
      "specific_h(x) Warm\n",
      "************************\n",
      "Specific Bundary after  2 Instance is  ['Sunny' 'Warm' '?' 'Strong' 'Warm']\n",
      "Generic Boundary after  2 Instance is  [['?', '?', '?', '?', '?'], ['?', '?', '?', '?', '?'], ['?', '?', '?', '?', '?'], ['?', '?', '?', '?', '?'], ['?', '?', '?', '?', '?']]\n",
      "\n",
      "\n",
      "\n",
      "Instance 3 is  ['Rainy' 'Cold' 'High' 'Strong' 'Warm']\n",
      "Instance is *Negative*\n",
      "Specific Bundary after  3 Instance is  ['Sunny' 'Warm' '?' 'Strong' 'Warm']\n",
      "Generic Boundary after  3 Instance is  [['Sunny', '?', '?', '?', '?'], ['?', 'Warm', '?', '?', '?'], ['?', '?', '?', '?', '?'], ['?', '?', '?', '?', '?'], ['?', '?', '?', '?', '?']]\n",
      "\n",
      "\n",
      "\n",
      "Instance 4 is  ['Sunny' 'Warm' 'High' 'Strong' 'Cool']\n",
      "Instance is *Positive*\n",
      "************************\n",
      "positive h(x) Sunny\n",
      "specific_h(x) Sunny\n",
      "************************\n",
      "************************\n",
      "positive h(x) Warm\n",
      "specific_h(x) Warm\n",
      "************************\n",
      "************************\n",
      "positive h(x) High\n",
      "specific_h(x) ?\n",
      "************************\n",
      "************************\n",
      "positive h(x) Strong\n",
      "specific_h(x) Strong\n",
      "************************\n",
      "************************\n",
      "positive h(x) Cool\n",
      "specific_h(x) Warm\n",
      "************************\n",
      "Specific Bundary after  4 Instance is  ['Sunny' 'Warm' '?' 'Strong' '?']\n",
      "Generic Boundary after  4 Instance is  [['Sunny', '?', '?', '?', '?'], ['?', 'Warm', '?', '?', '?'], ['?', '?', '?', '?', '?'], ['?', '?', '?', '?', '?'], ['?', '?', '?', '?', '?']]\n",
      "\n",
      "\n",
      "Final Specific_h: \n",
      "['Sunny' 'Warm' '?' 'Strong' '?']\n",
      "Final General_h: \n",
      "[['Sunny', '?', '?', '?', '?'], ['?', 'Warm', '?', '?', '?'], ['?', '?', '?', '?', '?'], ['?', '?', '?', '?', '?'], ['?', '?', '?', '?', '?']]\n"
     ]
    }
   ],
   "source": [
    "def learn(concepts, target):\n",
    "    specific_h = concepts[0].copy()\n",
    "    print(\"\\nInitialization of specific_h and genearal_h\")\n",
    "    print(\"\\nSpecific Boundary: \", specific_h)\n",
    "    general_h = [[\"?\" for i in range(len(specific_h))] for i in range(len(specific_h))]\n",
    "    print(\"\\nGeneric Boundary: \",general_h)\n",
    "\n",
    "    for i, h in enumerate(concepts):\n",
    "        print(\"\\nInstance\", i+1 , \"is \", h)\n",
    "        if target[i] == \"Yes\":\n",
    "            print(\"Instance is *Positive*\")\n",
    "            for x in range(len(specific_h)):\n",
    "                print(\"************************\")\n",
    "                print(\"positive h(x)\", h[x])\n",
    "                print(\"specific_h(x)\", specific_h[x])\n",
    "                print(\"************************\")\n",
    "                if h[x]!= specific_h[x]:\n",
    "                    specific_h[x] ='?'\n",
    "                    general_h[x][x] ='?'\n",
    "\n",
    "        if target[i] == \"No\":\n",
    "            print(\"Instance is *Negative*\")\n",
    "            for x in range(len(specific_h)):\n",
    "                if h[x]!= specific_h[x]:\n",
    "                    general_h[x][x] = specific_h[x]\n",
    "                else:\n",
    "                    general_h[x][x] = '?'\n",
    "\n",
    "        print(\"Specific Bundary after \", i+1, \"Instance is \", specific_h)\n",
    "        print(\"Generic Boundary after \", i+1, \"Instance is \", general_h)\n",
    "        print(\"\\n\")\n",
    "\n",
    "    indices = [i for i, val in enumerate(general_h) if val == ['?', '?', '?', '?', '?', '?']]\n",
    "    for i in indices:\n",
    "        general_h.remove(['?', '?', '?', '?', '?', '?'])\n",
    "    return specific_h, general_h\n",
    "\n",
    "s_final, g_final = learn(concepts, target)\n",
    "\n",
    "print(\"Final Specific_h: \", s_final, sep=\"\\n\")\n",
    "print(\"Final General_h: \", g_final, sep=\"\\n\")"
   ]
  },
  {
   "cell_type": "code",
   "execution_count": null,
   "metadata": {},
   "outputs": [],
   "source": []
  }
 ],
 "metadata": {
  "kernelspec": {
   "display_name": "Python 3",
   "language": "python",
   "name": "python3"
  },
  "language_info": {
   "codemirror_mode": {
    "name": "ipython",
    "version": 3
   },
   "file_extension": ".py",
   "mimetype": "text/x-python",
   "name": "python",
   "nbconvert_exporter": "python",
   "pygments_lexer": "ipython3",
   "version": "3.11.4"
  }
 },
 "nbformat": 4,
 "nbformat_minor": 2
}
