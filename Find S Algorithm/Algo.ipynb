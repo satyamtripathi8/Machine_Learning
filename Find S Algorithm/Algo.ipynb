{
 "cells": [
  {
   "cell_type": "markdown",
   "metadata": {},
   "source": [
    "# Find S Algoritm"
   ]
  },
  {
   "cell_type": "code",
   "execution_count": null,
   "metadata": {},
   "outputs": [],
   "source": [
    "import csv\n",
    "with open('C:\\\\Users\\\\HP\\\\Desktop\\\\Trial.csv','r') as csvfile:\n",
    "    reader = csv.reader(csvfile)\n",
    "    a=[]\n",
    "    for row in reader :\n",
    "        a.append(row)\n",
    "        print(\"Rows are\",row)\n",
    "num_at=6\n",
    "hypothesis=['0']*num_at\n",
    "print(\"Hypothesis\",hypothesis)\n",
    "for j in range(num_at):\n",
    "    hypothesis[j] = a[0][j];\n",
    "    print(\"New:{0} \".format(j), hypothesis)\n",
    "print(\"\\n Find S: Finding a Maximally Specific Hypothesis\\n\")\n",
    "print(\"Length of a: \", len(a))\n",
    "for i in range(len(a)):\n",
    "    if a[i][6]=='Yes':\n",
    "        for j in range(num_at):\n",
    "            if a[i][j]!=hypothesis[j]:\n",
    "                hypothesis[j]='?'\n",
    "            else:\n",
    "                hypothesis[j]=a[i][j]\n",
    "    print(\"\\nFor Training instance No: {0} the hypothesis is \\n\".format(i),hypothesis)\n",
    "print(\"\\n The Maximally Specific Hypothesis for a given Training Examples: \\n\")\n",
    "print(hypothesis)\n"
   ]
  }
 ],
 "metadata": {
  "kernelspec": {
   "display_name": "Python 3",
   "language": "python",
   "name": "python3"
  },
  "language_info": {
   "codemirror_mode": {
    "name": "ipython",
    "version": 3
   },
   "file_extension": ".py",
   "mimetype": "text/x-python",
   "name": "python",
   "nbconvert_exporter": "python",
   "pygments_lexer": "ipython3",
   "version": "3.11.4"
  }
 },
 "nbformat": 4,
 "nbformat_minor": 2
}
